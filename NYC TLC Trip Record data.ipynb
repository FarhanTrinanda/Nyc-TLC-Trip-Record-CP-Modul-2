{
 "cells": [
  {
   "cell_type": "markdown",
   "metadata": {},
   "source": [
    "<h1>Bussiness undderstanding & problem.</h1>\n",
    "\n",
    "Di Negara Amerika Serikat di Kota New York, semua kendaraan taksi di kelola oleh TLC(Taxi and Limousine Commission). Didirikan sejak tahun 1971. New York TLC adalah agensi yang bertanggung jawab untuk melisensikan dan mengatur taksi Medallion di Kota New York (Berwana Kuning), kendaraan untuk disewa secara khusus (khusus). Salah satu vendor dari TLC ini adalah VeriFone Inc.\n",
    "\n",
    "Dalam industri taksi, memahami pola permintaan pelanggan, preferensi wilayah adalah kunci untuk mengoptimalkan operasi dan meningkatkan profitabilitas. Dengan menilai kapan dan di mana layanan paling dibutuhkan serta apa yang mendorong pelanggan memberikan apresiasi lebih, perusahaan dapat membuat keputusan yang lebih tepat tentang alokasi sumber daya, penetapan harga, dan inisiatif pelayanan pelanggan. Meningkatkan profitabilitas layanan taksi dengan menganalisis perilaku dan preferensi pelanggan merupakan sebuah tantangan kompleks di era kompetisi digital yang ketat saat ini. Pemahaman mendalam tentang dinamika operasional dan pelayanan terhadap pelanggan menjadi fondasi utama untuk mengatasi tantangan ini. Dengan mengeksplorasi lebih dalam aspek-aspek tertentu dari operasional taksi, kita dapat menemukan solusi yang lebih spesifik dan terarah. Salah satu dari aspek tersebut adalah:\n",
    "\n",
    "- Variabilitas permintaan berdasarkan beberapa aspek seperti waktu, wilayah, dan prefensi pelanggan."
   ]
  },
  {
   "cell_type": "markdown",
   "metadata": {},
   "source": [
    "<h1>Goals</h1>\n",
    "\n",
    "Memberikan insight terhadap stakeholder (Manajer dari VeriFone Inc.) untuk membantu dalam strategi atau pembuatan keputusan terkait hal-hal berikut :\n",
    "\n",
    "- Meningkatkan profit melalui penjadwalan armada taksi.\n",
    "- bagaimana cara memindahkan metode pembayaran penumpang dari pembayaran cash dan lainnya menjadi credit, dan bagaimana perusahaan bisa mendapatkan keuntungan dari perpindahan metode pambayaran tersebut.\n",
    "- Perusahaan ingin para penumpang merubah cara penumpang memanggil taksi dari yang sebelumny langsung di jalan menjadi panggilan lewat sarana lain seperti apps.\n"
   ]
  },
  {
   "cell_type": "markdown",
   "metadata": {},
   "source": [
    "<h1>New York City TLC Trip Record Data Dictionary</h1>\n",
    "\n",
    "Klik link https://drive.google.com/drive/folders/1NYHIL-RgVPW-HONz4pdzlcbIChF-c37N"
   ]
  },
  {
   "cell_type": "code",
   "execution_count": null,
   "metadata": {},
   "outputs": [],
   "source": [
    "import pandas as pd\n",
    "import numpy as np\n",
    "import altair as alt\n",
    "from IPython.display import display\n",
    "alt.data_transformers.enable('default', max_rows=None)\n",
    "import warnings\n",
    "warnings.filterwarnings('ignore')"
   ]
  },
  {
   "cell_type": "code",
   "execution_count": null,
   "metadata": {},
   "outputs": [],
   "source": [
    "# Mengimport dataset\n",
    "\n",
    "df = pd.read_csv('NYC TLC Trip Record.csv')\n",
    "\n",
    "# Melihat isi 5 teratas , terbawah, dan bentuk dari dataset\n",
    "\n",
    "display(df.head(),df.tail())\n",
    "df.shape"
   ]
  },
  {
   "cell_type": "markdown",
   "metadata": {},
   "source": [
    "Selanjutnya sebelum <i>skimming data</i> atau melihat data secara sekilas. Data kolom <b>VendorID</b> akan difilter sesuai yang dibutuhkan oleh <i>stackholder</i>, dengan memilih <b>VendorID</b> = 2. Setelah itu kolom <b>VendorID</b> bisa di hapus karena sudah tidak digunakan lagi."
   ]
  },
  {
   "cell_type": "code",
   "execution_count": null,
   "metadata": {},
   "outputs": [],
   "source": [
    "# Memfilter kolom VendorID\n",
    "df = df[(df['VendorID'] == 2)]\n",
    "\n",
    "# Menghapus kolom VendorId\n",
    "df = df.reset_index().drop(['VendorID', 'index'], axis=1)\n",
    "\n",
    "df"
   ]
  },
  {
   "cell_type": "markdown",
   "metadata": {},
   "source": [
    "Setelah itu, menghapus tiga kolom yang tidak ada di dalam dictionary dan beberapa kolom yang tidak diperlukan dalam dataset New York City TLC Trip Record karena tidak relevan dengan pertanyaan atau permintaan dari stockholder."
   ]
  },
  {
   "cell_type": "code",
   "execution_count": null,
   "metadata": {},
   "outputs": [],
   "source": [
    "# Menghapus yang tidak ada dalam dictionary.\n",
    "df = df.drop(['extra', 'ehail_fee', 'congestion_surcharge'], axis=1)\n",
    "\n",
    "# Menghapus kolom yang tidak diperlukan.\n",
    "df = df.drop(['store_and_fwd_flag', 'fare_amount', 'mta_tax', 'tolls_amount', 'improvement_surcharge', ], axis=1)\n",
    "\n",
    "# Menampilkan 5 data teratas dan terbawah serta shape baru dari data.\n",
    "display(df.head(), df.tail())\n",
    "df.shape"
   ]
  },
  {
   "cell_type": "markdown",
   "metadata": {},
   "source": [
    "<h1>Skimming Data</h1>\n",
    "\n",
    "Melihat sekilas dataset NYC TLC Trip Record."
   ]
  },
  {
   "cell_type": "code",
   "execution_count": null,
   "metadata": {},
   "outputs": [],
   "source": [
    "# Melihat data secara detail.\n",
    "pd.set_option('display.max_colwidth', None)\n",
    "\n",
    "pd.DataFrame({\n",
    "    'feature': df.columns.values,\n",
    "    'data_type': df.dtypes.values,\n",
    "    'null_value(%)': df.isna().mean().values * 100,\n",
    "    'neg_value(%)': [len(df[col][df[col] < 0]) / len(df) * 100 if col in df.select_dtypes(include=[np.number]).columns else 0 for col in df.columns],\n",
    "    '0_value(%)': [len(df[col][df[col] == 0]) / len(df) * 100 if col in df.select_dtypes(include=[np.number]).columns else 0 for col in df.columns],\n",
    "    'duplicate' : df.duplicated().sum(),\n",
    "    'n_unique': df.nunique().values,\n",
    "    'sample_unique': [df[col].unique() for col in df.columns]}\n",
    ").round(3)"
   ]
  },
  {
   "cell_type": "code",
   "execution_count": null,
   "metadata": {},
   "outputs": [],
   "source": [
    "# Menghitung nullity correlation matrix.\n",
    "nullity_corr = df.isnull().corr()\n",
    "\n",
    "# Melt correlation matrix nya.\n",
    "nullity_corr_melted = nullity_corr.reset_index().melt(id_vars='index', var_name='column', value_name='correlation')\n",
    "\n",
    "# Membuat heatmap menggunakan Altair.\n",
    "heatmap = alt.Chart(nullity_corr_melted).mark_rect().encode(\n",
    "    x=alt.X('index:O', title=''),\n",
    "    y=alt.Y('column:O', title=''),\n",
    "    color=alt.Color('correlation:Q', scale=alt.Scale(scheme='viridis'), title='Nullity Correlation'),\n",
    "    tooltip=['index', 'column', 'correlation']\n",
    ").properties(\n",
    "    width=500,\n",
    "    height=500,\n",
    "    title='Nullity Correlation Heatmap'\n",
    ")\n",
    "\n",
    "heatmap"
   ]
  },
  {
   "cell_type": "markdown",
   "metadata": {},
   "source": [
    "Berdasarkan <i>heatmap</i> di atas, relasi <i>missing value</i> yang bernilai satu yang artinya ketika terdapat kolom <i>missing value</i> pada baris tertentu maka kolom lainnya juga <i>missing</i>"
   ]
  },
  {
   "cell_type": "markdown",
   "metadata": {},
   "source": [
    "<h1>Exploratory Data Analysis.</h1>"
   ]
  },
  {
   "cell_type": "code",
   "execution_count": null,
   "metadata": {},
   "outputs": [],
   "source": [
    "# Distribusi data.\n",
    "\n",
    "df.describe().T"
   ]
  },
  {
   "cell_type": "markdown",
   "metadata": {},
   "source": [
    "Berdasarkan data di atas dapat di simpulkan bahwa terdapat missing values yang bisa kita lihat dari count, min values bisa dilihat dari min, outliers bisa dilihat dari max di beberapa kolom."
   ]
  },
  {
   "cell_type": "code",
   "execution_count": null,
   "metadata": {},
   "outputs": [],
   "source": [
    "# Mmebuat list untuk menyimpan chart.\n",
    "charts = []\n",
    "\n",
    "# loop setiap numerical kolom dan membuat box plot.\n",
    "for col in df.select_dtypes(include=[int, float]):\n",
    "    chart = alt.Chart(df).mark_boxplot().encode(\n",
    "        y=alt.Y(col, title=col)\n",
    "    ).properties(\n",
    "        width=500,\n",
    "        height=500\n",
    "    )\n",
    "    charts.append(chart)\n",
    "\n",
    "# Concat chart nya secara horizontal.\n",
    "alt.hconcat(*charts)"
   ]
  },
  {
   "cell_type": "code",
   "execution_count": null,
   "metadata": {},
   "outputs": [],
   "source": [
    "# Menghitung Spearman correlation matrix\n",
    "corr_matrix = df.corr('spearman')\n",
    "\n",
    "# Mereset index dan melt correlation matrix nya.\n",
    "corr_melted = corr_matrix.reset_index().melt(id_vars='index', var_name='column', value_name='correlation')\n",
    "\n",
    "# Membuat heatmap menggunkan Altair\n",
    "heatmap = alt.Chart(corr_melted).mark_rect().encode(\n",
    "    x=alt.X('index:O', title=''),\n",
    "    y=alt.Y('column:O', title=''),\n",
    "    color=alt.Color('correlation:Q', scale=alt.Scale(domain=[-1, 0, 1], range=['blue', 'white', 'red']), title='Spearman Correlation'),\n",
    "    tooltip=['index', 'column', 'correlation']\n",
    ").properties(\n",
    "    width=700,\n",
    "    height=700,\n",
    "    title='Spearman Correlation Heatmap'\n",
    ")\n",
    "\n",
    "heatmap"
   ]
  },
  {
   "cell_type": "markdown",
   "metadata": {},
   "source": [
    "Dari data di atas kita dapat melihat korelasi2 dari data atau kolom yang ada."
   ]
  },
  {
   "cell_type": "markdown",
   "metadata": {},
   "source": [
    "<h1>Data Cleaning</h1>"
   ]
  },
  {
   "cell_type": "markdown",
   "metadata": {},
   "source": [
    "<h3>Duplicate Value</h3>\n",
    "\n",
    "Mencari dan menangani data yang ada duplikat nya."
   ]
  },
  {
   "cell_type": "code",
   "execution_count": null,
   "metadata": {},
   "outputs": [],
   "source": [
    "df[df.duplicated()]"
   ]
  },
  {
   "cell_type": "code",
   "execution_count": null,
   "metadata": {},
   "outputs": [],
   "source": [
    "print(df[df.duplicated()].sum())\n",
    "print(df.duplicated().value_counts())"
   ]
  },
  {
   "cell_type": "markdown",
   "metadata": {},
   "source": [
    "Data di atas menunjukan tidak ada data yang duplikat."
   ]
  },
  {
   "cell_type": "code",
   "execution_count": null,
   "metadata": {},
   "outputs": [],
   "source": [
    "duplicate_value = df[df.duplicated(subset=['lpep_pickup_datetime', 'lpep_dropoff_datetime', 'RatecodeID', 'PULocationID', 'DOLocationID', 'passenger_count', 'trip_distance'], keep=False)]\n",
    "duplicate_value"
   ]
  },
  {
   "cell_type": "code",
   "execution_count": null,
   "metadata": {},
   "outputs": [],
   "source": [
    "dup_negatif_val = duplicate_value[df['total_amount']<0]\n",
    "dup_negatif_val "
   ]
  },
  {
   "cell_type": "code",
   "execution_count": null,
   "metadata": {},
   "outputs": [],
   "source": [
    "df.drop(dup_negatif_val.index, inplace=True)"
   ]
  },
  {
   "cell_type": "code",
   "execution_count": null,
   "metadata": {},
   "outputs": [],
   "source": [
    "df[df.duplicated(subset=['lpep_pickup_datetime', 'lpep_dropoff_datetime', 'RatecodeID', 'PULocationID', 'DOLocationID', 'passenger_count', 'trip_distance'])]"
   ]
  },
  {
   "cell_type": "markdown",
   "metadata": {},
   "source": [
    "Di atas saya mencoba mencari secara lebih spesifik data duplikat nya, dengan cara mengambil beberapa kolom saja. dan hasil nya ternyata ada dan langsung saya tangani. "
   ]
  },
  {
   "cell_type": "markdown",
   "metadata": {},
   "source": [
    "<h3>Negative Values</h3>\n",
    "\n",
    "Mencari data yang bernilai negatif."
   ]
  },
  {
   "cell_type": "code",
   "execution_count": null,
   "metadata": {},
   "outputs": [],
   "source": [
    "pd.DataFrame({\n",
    "    'feature': df.columns.values,\n",
    "    'neg_value(%)': [len(df[col][df[col] < 0]) / len(df) * 100 if np.issubdtype(df[col].dtype, np.number) else 0 for col in df.columns]\n",
    "}).round(3)"
   ]
  },
  {
   "cell_type": "markdown",
   "metadata": {},
   "source": [
    "Masih ada nilai negatif di kolom <b>total_amount</b>. Nilai dari kolom tersebut harus diubah menjadi positif atau di absolutkan."
   ]
  },
  {
   "cell_type": "code",
   "execution_count": null,
   "metadata": {},
   "outputs": [],
   "source": [
    "\n",
    "negatif_val  = df[df['total_amount']<0]\n",
    "df.loc[negatif_val.index, 'total_amount'] = df['total_amount'].abs()"
   ]
  },
  {
   "cell_type": "markdown",
   "metadata": {},
   "source": [
    "Saya memfilter data yang bernilai negatif dan saya absolutkan nilai nya."
   ]
  },
  {
   "cell_type": "code",
   "execution_count": null,
   "metadata": {},
   "outputs": [],
   "source": [
    "# Melihat apakah nilai negatif nya sudah hilang.\n",
    "\n",
    "pd.DataFrame({\n",
    "    'feature': df.columns.values,\n",
    "    'neg_value(%)': [len(df[col][df[col] < 0]) / len(df) * 100 if np.issubdtype(df[col].dtype, np.number) else 0 for col in df.columns]\n",
    "}).round(3)"
   ]
  },
  {
   "cell_type": "markdown",
   "metadata": {},
   "source": [
    "<h3>Zero Values</h3>\n",
    "\n",
    "Mencari nilai kosong/nol."
   ]
  },
  {
   "cell_type": "code",
   "execution_count": null,
   "metadata": {},
   "outputs": [],
   "source": [
    "pd.DataFrame({\n",
    "    'feature': df.columns.values,\n",
    "    'data_type': df.dtypes.values,\n",
    "    '0_value(%)': [len(df[col][df[col] == 0]) / len(df) * 100 if np.issubdtype(df[col].dtype, np.number) else 0 for col in df.columns]\n",
    "}).round(3)"
   ]
  },
  {
   "cell_type": "markdown",
   "metadata": {},
   "source": [
    "Ada nilai kosong di kolom <b>passenger_count</b>trip_distance<b>tip_amount</b><b>total_amount</b>."
   ]
  },
  {
   "cell_type": "code",
   "execution_count": null,
   "metadata": {},
   "outputs": [],
   "source": [
    "df['passenger_count'] = df['passenger_count'].replace(0, df['passenger_count'].median())\n",
    "df = df[df['total_amount']>0]\n",
    "df = df[df['trip_distance']>0]"
   ]
  },
  {
   "cell_type": "code",
   "execution_count": null,
   "metadata": {},
   "outputs": [],
   "source": [
    "pd.DataFrame({\n",
    "    'feature': df.columns.values,\n",
    "    'data_type': df.dtypes.values,\n",
    "    '0_value(%)': [len(df[col][df[col] == 0]) / len(df) * 100 if np.issubdtype(df[col].dtype, np.number) else 0 for col in df.columns]\n",
    "}).round(3)"
   ]
  },
  {
   "cell_type": "markdown",
   "metadata": {},
   "source": [
    "<h1>Missing Values</h1>"
   ]
  },
  {
   "cell_type": "markdown",
   "metadata": {},
   "source": [
    "Mencari missing values atau Null."
   ]
  },
  {
   "cell_type": "code",
   "execution_count": null,
   "metadata": {},
   "outputs": [],
   "source": [
    "pd.DataFrame({\n",
    "    'feature': df.columns.values,\n",
    "    'data_type': df.dtypes.values,\n",
    "    'null_value(sum)': df.isna().sum(),\n",
    "    'null_value(%)': df.isna().mean().values * 100\n",
    "}).round(3)"
   ]
  },
  {
   "cell_type": "markdown",
   "metadata": {},
   "source": [
    "Ada <i>missing values</i> atau Null di kolom <b>RatecodeID</b>, <b>passenger_count</b> <b>payment_type</b>, <b>trip_type</b>."
   ]
  },
  {
   "cell_type": "markdown",
   "metadata": {},
   "source": [
    "Mengisi <i>missing values</i> pada kolom <b>RatecodeID</b>"
   ]
  },
  {
   "cell_type": "code",
   "execution_count": null,
   "metadata": {},
   "outputs": [],
   "source": [
    "df['RatecodeID'].sum()"
   ]
  },
  {
   "cell_type": "code",
   "execution_count": null,
   "metadata": {},
   "outputs": [],
   "source": [
    "df['RatecodeID'].value_counts()"
   ]
  },
  {
   "cell_type": "code",
   "execution_count": null,
   "metadata": {},
   "outputs": [],
   "source": [
    "df['RatecodeID'].isna().sum()"
   ]
  },
  {
   "cell_type": "code",
   "execution_count": null,
   "metadata": {},
   "outputs": [],
   "source": [
    "# Untuk baris dimana PULoacationID  dan DOLocationID ada nilainya.\n",
    "for index, row in df[(~df['PULocationID'].isnull()) & (~df['DOLocationID'].isnull()) & (df['RatecodeID'].isnull())].iterrows():\n",
    "    # Cari baris yang PULocationID dan DOLocationID dan non-null RatecodeID.\n",
    "    similar_rows = df[(df['PULocationID'] == row['PULocationID']) & (df['DOLocationID'] == row['DOLocationID']) & (~df['RatecodeID'].isnull())]\n",
    "    if not similar_rows.empty:\n",
    "        # Fill missing RatecodeID with the most common RatecodeID for similar trips\n",
    "        most_common_ratecode = similar_rows['RatecodeID'].mode()[0]\n",
    "        df.at[index, 'RatecodeID'] = most_common_ratecode\n",
    "\n",
    "# Untuk baris yang hanya ada salah satu dari PULocationID atau DOLocationID tersedia nilainya.\n",
    "for index, row in df[((~df['PULocationID'].isnull()) | (~df['DOLocationID'].isnull())) & (df['RatecodeID'].isnull())].iterrows():\n",
    "    # Cari baris yang sama nilainya dengan PULocationID atau DOLocationID dan dengan non-null RatecodeID.\n",
    "    if not pd.isnull(row['PULocationID']):\n",
    "        similar_rows = df[(df['PULocationID'] == row['PULocationID']) & (~df['RatecodeID'].isnull())]\n",
    "    else:\n",
    "        similar_rows = df[(df['DOLocationID'] == row['DOLocationID']) & (~df['RatecodeID'].isnull())]\n",
    "    if not similar_rows.empty:\n",
    "        # Isi missing values RatecodeID dengan modus RatecodeID untuk trips yang sama.\n",
    "        most_common_ratecode = similar_rows['RatecodeID'].mode()[0]\n",
    "        df.at[index, 'RatecodeID'] = most_common_ratecode"
   ]
  },
  {
   "cell_type": "code",
   "execution_count": null,
   "metadata": {},
   "outputs": [],
   "source": [
    "# Menghapus missing values RatecodeID yang tersisa.\n",
    "df.dropna(subset=['RatecodeID'], inplace=True)"
   ]
  },
  {
   "cell_type": "code",
   "execution_count": null,
   "metadata": {},
   "outputs": [],
   "source": [
    "df['RatecodeID'].sum()"
   ]
  },
  {
   "cell_type": "code",
   "execution_count": null,
   "metadata": {},
   "outputs": [],
   "source": [
    "df['RatecodeID'].isna().sum()"
   ]
  },
  {
   "cell_type": "code",
   "execution_count": null,
   "metadata": {},
   "outputs": [],
   "source": [
    "df['RatecodeID'].value_counts()"
   ]
  },
  {
   "cell_type": "code",
   "execution_count": null,
   "metadata": {},
   "outputs": [],
   "source": [
    "pd.DataFrame({\n",
    "    'feature': df.columns.values,\n",
    "    'data_type': df.dtypes.values,\n",
    "    'null_value(sum)': df.isna().sum(),\n",
    "    'null_value(%)': df.isna().mean().values * 100\n",
    "}).round(3)"
   ]
  },
  {
   "cell_type": "markdown",
   "metadata": {},
   "source": [
    "Mengisi <i>missing values</i> pada kolom <b>passenger_count</b>"
   ]
  },
  {
   "cell_type": "code",
   "execution_count": null,
   "metadata": {},
   "outputs": [],
   "source": [
    "df['passenger_count'].fillna(df['passenger_count'].median(), inplace=True)\n",
    "\n",
    "print(df['passenger_count'].value_counts())\n",
    "print('Total NaN values: ', len(df[df['passenger_count'].isna()]))"
   ]
  },
  {
   "cell_type": "markdown",
   "metadata": {},
   "source": [
    "Mengsisi <i>missing values</i> di kolom passenger_count dengan median nya."
   ]
  },
  {
   "cell_type": "code",
   "execution_count": null,
   "metadata": {},
   "outputs": [],
   "source": [
    "pd.DataFrame({\n",
    "    'feature': df.columns.values,\n",
    "    'data_type': df.dtypes.values,\n",
    "    'null_value(sum)': df.isna().sum(),\n",
    "    'null_value(%)': df.isna().mean().values * 100\n",
    "}).round(3)"
   ]
  },
  {
   "cell_type": "markdown",
   "metadata": {},
   "source": [
    "Mengisi <i>missing values</i> pada kolom <b>payment_type</b>"
   ]
  },
  {
   "cell_type": "code",
   "execution_count": null,
   "metadata": {},
   "outputs": [],
   "source": [
    "print(df['payment_type'].value_counts())\n",
    "print('Total NaN values: ', len(df[df['payment_type'].isna()]))"
   ]
  },
  {
   "cell_type": "code",
   "execution_count": null,
   "metadata": {},
   "outputs": [],
   "source": [
    "df[(df['tip_amount']>0)]['payment_type'].value_counts()"
   ]
  },
  {
   "cell_type": "code",
   "execution_count": null,
   "metadata": {},
   "outputs": [],
   "source": [
    "df.loc[df['payment_type'].isna(), 'payment_type'] = df['tip_amount'].apply(lambda x: 1.0 if x > 0.0 else 5.0)\n",
    "df['payment_type'].value_counts()"
   ]
  },
  {
   "cell_type": "markdown",
   "metadata": {},
   "source": [
    "Dari <i>dictionary</i> kolom saya mengetahui kalau penumpang memberikan tip maka dia pasti menggunakan kredit sebagai <b>payment_type</b> nya, jadi di sini saya menggunakan <b>tip_amount</b> sebagai filter untuk mengisi <b>payment_type</b> yang kosong."
   ]
  },
  {
   "cell_type": "markdown",
   "metadata": {},
   "source": [
    "Mengisi <i>missing values</i> pada kolom <b>trip_type</b>"
   ]
  },
  {
   "cell_type": "code",
   "execution_count": null,
   "metadata": {},
   "outputs": [],
   "source": [
    "df.groupby(['RatecodeID', 'trip_type']).size().reset_index(name='Count')"
   ]
  },
  {
   "cell_type": "code",
   "execution_count": null,
   "metadata": {},
   "outputs": [],
   "source": [
    "df[df['trip_type'].isna()].groupby('RatecodeID').size().reset_index(name='count')"
   ]
  },
  {
   "cell_type": "code",
   "execution_count": null,
   "metadata": {},
   "outputs": [],
   "source": [
    "df['trip_type'].fillna(1, inplace=True)\n",
    "df['trip_type'].value_counts()"
   ]
  },
  {
   "cell_type": "markdown",
   "metadata": {},
   "source": [
    "Saya mengis <i>missing values</i> di kolom <b>trip_type</b> dengan menggunakan kolom <b>RatecodeID</b>, dimana jika <b>RatecodeID</b> nya 1, 2, dan 3 maka <b>trip_type</b> nya ada 1 selain itu <b>trip_type</b> nya adalah 2."
   ]
  },
  {
   "cell_type": "markdown",
   "metadata": {},
   "source": [
    "<h1>Formatting and Outliers Handling</h1>"
   ]
  },
  {
   "cell_type": "markdown",
   "metadata": {},
   "source": [
    "Mengformat dan menangani anomali di dataset"
   ]
  },
  {
   "cell_type": "markdown",
   "metadata": {},
   "source": [
    "<h3>lpep_pickup_datetime and lpep_dropoff_datetime</h3>"
   ]
  },
  {
   "cell_type": "code",
   "execution_count": null,
   "metadata": {},
   "outputs": [],
   "source": [
    "df['lpep_pickup_datetime'] = pd.to_datetime(df['lpep_pickup_datetime'])\n",
    "df['lpep_dropoff_datetime'] = pd.to_datetime(df['lpep_dropoff_datetime'])"
   ]
  },
  {
   "cell_type": "markdown",
   "metadata": {},
   "source": [
    "Mengubah tipe data <i>object</i> dari kolom <b>lpep_pickup_datetime</b> dan <b>lpep_dropoff_datetime</b> menjadi <i>datetime</i>"
   ]
  },
  {
   "cell_type": "code",
   "execution_count": null,
   "metadata": {},
   "outputs": [],
   "source": [
    "outliers = df[(df['lpep_pickup_datetime'].dt.month!=1) | (df['lpep_pickup_datetime'].dt.year!=2023)]\n",
    "outliers"
   ]
  },
  {
   "cell_type": "code",
   "execution_count": null,
   "metadata": {},
   "outputs": [],
   "source": [
    "df.drop(outliers.index, inplace=True)"
   ]
  },
  {
   "cell_type": "code",
   "execution_count": null,
   "metadata": {},
   "outputs": [],
   "source": [
    "df[(df['lpep_pickup_datetime'].dt.month!=1) | (df['lpep_pickup_datetime'].dt.year!=2023)]"
   ]
  },
  {
   "cell_type": "markdown",
   "metadata": {},
   "source": [
    "Menemukan anomali di mana tahun dan bulan di kolom <b>lpep_pickup_datetime</b> dan <b>lpep_dropoff_datetime</b> bukan tahun 2023 dan bulan januari."
   ]
  },
  {
   "cell_type": "code",
   "execution_count": null,
   "metadata": {},
   "outputs": [],
   "source": [
    "\n",
    "time_bins = [0, 5, 11, 15, 20, 24] \n",
    "time_labels = ['Midnight', 'Morning', 'Noon', 'Evening', 'Night']\n",
    "df['pickup_time'] = pd.cut(df['lpep_pickup_datetime'].dt.hour, bins=time_bins, labels=time_labels, right=False)\n",
    "\n",
    "df['day_category'] = df['lpep_pickup_datetime'].dt.day_name().apply(lambda x: 'Weekend' if x in ['Saturday', 'Sunday'] else 'Weekdays')"
   ]
  },
  {
   "cell_type": "markdown",
   "metadata": {},
   "source": [
    "Membuat kategori untuk waktu dan hari."
   ]
  },
  {
   "cell_type": "markdown",
   "metadata": {},
   "source": [
    "<h3>RatecodeID</h3>"
   ]
  },
  {
   "cell_type": "code",
   "execution_count": null,
   "metadata": {},
   "outputs": [],
   "source": [
    "df['RatecodeID'] = df['RatecodeID'].replace({1:'Standard rate', 2:'JFK Airport', 3:'Newark Airport', 4:'Nassau or Westchester', 5:'Negotiated fare', 6:'Group ride'})\n",
    "df['RatecodeID'].value_counts()"
   ]
  },
  {
   "cell_type": "markdown",
   "metadata": {},
   "source": [
    "Mengubah isi dari kolom <b>RatecodeID</b>."
   ]
  },
  {
   "cell_type": "markdown",
   "metadata": {},
   "source": [
    "<h3>passenger_count\t</h3>"
   ]
  },
  {
   "cell_type": "code",
   "execution_count": null,
   "metadata": {},
   "outputs": [],
   "source": [
    "df['passenger_count'].value_counts()"
   ]
  },
  {
   "cell_type": "code",
   "execution_count": null,
   "metadata": {},
   "outputs": [],
   "source": [
    "\n",
    "alt.Chart(df).mark_boxplot().encode(\n",
    "    y=alt.Y('passenger_count:O', title='Total Passenger'),\n",
    "    x=alt.X('passenger_count:Q', title='Count'),\n",
    ").properties(\n",
    "    width=1000,\n",
    "    height=500,\n",
    "    title='Passenger Distribution'\n",
    ").configure_axis(\n",
    "    labelFontSize=12,\n",
    "    titleFontSize=14\n",
    ").configure_title(\n",
    "    fontSize=16\n",
    ")"
   ]
  },
  {
   "cell_type": "code",
   "execution_count": null,
   "metadata": {},
   "outputs": [],
   "source": [
    "df['passenger_count'] = df['passenger_count'].apply(lambda x: '>3' if x>3 else str(x))\n",
    "df['passenger_count'].value_counts()"
   ]
  },
  {
   "cell_type": "markdown",
   "metadata": {},
   "source": [
    "Membuat kategori untuk <b>passenger_count</b>."
   ]
  },
  {
   "cell_type": "markdown",
   "metadata": {},
   "source": [
    "<h3>trip_distance</h3>"
   ]
  },
  {
   "cell_type": "code",
   "execution_count": null,
   "metadata": {},
   "outputs": [],
   "source": [
    "\n",
    "alt.Chart(df).mark_boxplot().encode(\n",
    "    x=alt.X('trip_distance:Q', title='Distance (mile)'),\n",
    ").properties(\n",
    "    width=1000,\n",
    "    height=500,\n",
    "    title='Trip Distance Distribution'\n",
    ").configure_axis(\n",
    "    labelFontSize=12,\n",
    "    titleFontSize=14\n",
    ").configure_title(\n",
    "    fontSize=16\n",
    ")"
   ]
  },
  {
   "cell_type": "code",
   "execution_count": null,
   "metadata": {},
   "outputs": [],
   "source": [
    "# Calculate quartiles and IQR\n",
    "q1 = df['trip_distance'].quantile(0.25)\n",
    "q3 = df['trip_distance'].quantile(0.75)\n",
    "iqr = q3 - q1\n",
    "\n",
    "# Define outlier bounds\n",
    "lower_bound = q1 - 1.5 * iqr\n",
    "upper_bound = q3 + 1.5 * iqr\n",
    "\n",
    "# Find outliers\n",
    "outliers = df[(df['trip_distance'] < lower_bound) | (df['trip_distance'] > upper_bound)]\n",
    "\n",
    "#  Median trip_distance. \n",
    "median = df['trip_distance'].median()\n",
    "outliers"
   ]
  },
  {
   "cell_type": "markdown",
   "metadata": {},
   "source": [
    "Mencari anomali data menggunakan IQR, dan mencari median dari kolom <b>trip_distance</b>."
   ]
  },
  {
   "cell_type": "code",
   "execution_count": null,
   "metadata": {},
   "outputs": [],
   "source": [
    "df['trip_distance'] = df['trip_distance'].where((df['trip_distance'] >= lower_bound) & (df['trip_distance'] <= upper_bound), median)\n",
    "\n",
    "df.head()"
   ]
  },
  {
   "cell_type": "markdown",
   "metadata": {},
   "source": [
    "Mengganti anomali data dengan median kolom <b>trip_distance</b>."
   ]
  },
  {
   "cell_type": "code",
   "execution_count": null,
   "metadata": {},
   "outputs": [],
   "source": [
    "bins_of_distance = [0, 2, 4, 6, np.inf] \n",
    "labels_of_distance = ['<2 miles', '3-4 miles', '5-6 miles', '>6 miles']\n",
    "\n",
    "df['distance_bins'] = pd.cut(df['trip_distance'], bins=bins_of_distance, labels=labels_of_distance)"
   ]
  },
  {
   "cell_type": "code",
   "execution_count": null,
   "metadata": {},
   "outputs": [],
   "source": [
    "df['distance_bins'].value_counts()"
   ]
  },
  {
   "cell_type": "markdown",
   "metadata": {},
   "source": [
    "Mengkategorikan kolom <b>trip_distance</b>."
   ]
  },
  {
   "cell_type": "markdown",
   "metadata": {},
   "source": [
    "<h3>Trip_Duration</h3>\n",
    "\n",
    "Membuat kolom baru yang isi kolom nya adalah berapa lama perjalanan taxi. "
   ]
  },
  {
   "cell_type": "code",
   "execution_count": null,
   "metadata": {},
   "outputs": [],
   "source": [
    "diff = (df['lpep_dropoff_datetime'] - df['lpep_pickup_datetime']).dt.total_seconds()/60\n",
    "df['trip_duration'] = diff.round(2)"
   ]
  },
  {
   "cell_type": "code",
   "execution_count": null,
   "metadata": {},
   "outputs": [],
   "source": [
    "# Create an Altair chart\n",
    "alt.Chart(df).mark_boxplot().encode(\n",
    "    x=alt.X('trip_duration:Q', title='Duration (minutes)'),\n",
    ").properties(\n",
    "    width=1000,\n",
    "    height=500,\n",
    "    title='Trip Duration Distribution'\n",
    ").configure_axis(\n",
    "    labelFontSize=12,\n",
    "    titleFontSize=14\n",
    ").configure_title(\n",
    "    fontSize=16\n",
    ")"
   ]
  },
  {
   "cell_type": "code",
   "execution_count": null,
   "metadata": {},
   "outputs": [],
   "source": [
    "# Calculate quartiles and IQR\n",
    "q1 = df['trip_duration'].quantile(0.25)\n",
    "q3 = df['trip_duration'].quantile(0.75)\n",
    "iqr = q3 - q1\n",
    "\n",
    "# Define outlier bounds\n",
    "lower_bound = q1 - 1.5 * iqr\n",
    "upper_bound = q3 + 1.5 * iqr\n",
    "\n",
    "# Find outliers\n",
    "outliers = df[(df['trip_duration'] < lower_bound) | (df['trip_duration'] > upper_bound)]\n",
    "\n",
    "#  Median trip_distance. \n",
    "median = df['trip_duration'].median()\n",
    "outliers"
   ]
  },
  {
   "cell_type": "code",
   "execution_count": null,
   "metadata": {},
   "outputs": [],
   "source": [
    "df['trip_duration'] = df['trip_duration'].where((df['trip_duration'] >= lower_bound) & (df['trip_duration'] <= upper_bound), median)\n",
    "\n",
    "df.head()"
   ]
  },
  {
   "cell_type": "code",
   "execution_count": null,
   "metadata": {},
   "outputs": [],
   "source": [
    "bins_of_duration = [0, 10, 20, 30, np.inf] \n",
    "labels_of_duration = ['<10 minutes', '11-20 minutes', '21-30 minutes', '>30 minutes']\n",
    "\n",
    "df['duration_bins'] = pd.cut(df['trip_duration'], bins=bins_of_duration, labels=labels_of_duration)"
   ]
  },
  {
   "cell_type": "code",
   "execution_count": null,
   "metadata": {},
   "outputs": [],
   "source": [
    "df['duration_bins'].value_counts()"
   ]
  },
  {
   "cell_type": "markdown",
   "metadata": {},
   "source": [
    "<h3>total_amount</h3>"
   ]
  },
  {
   "cell_type": "code",
   "execution_count": null,
   "metadata": {},
   "outputs": [],
   "source": [
    "df.head()"
   ]
  },
  {
   "cell_type": "code",
   "execution_count": null,
   "metadata": {},
   "outputs": [],
   "source": [
    "# Calculate quartiles and IQR\n",
    "q1 = df['total_amount'].quantile(0.25)\n",
    "q3 = df['total_amount'].quantile(0.75)\n",
    "iqr = q3 - q1\n",
    "\n",
    "# Define outlier bounds\n",
    "lower_bound = q1 - 1.5 * iqr\n",
    "upper_bound = q3 + 1.5 * iqr\n",
    "\n",
    "# Find outliers\n",
    "outliers = df[(df['total_amount'] < lower_bound) | (df['total_amount'] > upper_bound)]\n",
    "\n",
    "#  Median trip_distance. \n",
    "median = df['total_amount'].median()\n",
    "outliers"
   ]
  },
  {
   "cell_type": "code",
   "execution_count": null,
   "metadata": {},
   "outputs": [],
   "source": [
    "df['total_amount'] = df['total_amount'].where((df['total_amount'] >= lower_bound) & (df['total_amount'] <= upper_bound), median)\n",
    "\n",
    "df.head()"
   ]
  },
  {
   "cell_type": "markdown",
   "metadata": {},
   "source": [
    "<h3>tip_amount</h3>"
   ]
  },
  {
   "cell_type": "code",
   "execution_count": null,
   "metadata": {},
   "outputs": [],
   "source": [
    "# Calculate quartiles and IQR\n",
    "q1 = df['tip_amount'].quantile(0.25)\n",
    "q3 = df['tip_amount'].quantile(0.75)\n",
    "iqr = q3 - q1\n",
    "\n",
    "# Define outlier bounds\n",
    "lower_bound = q1 - 1.5 * iqr\n",
    "upper_bound = q3 + 1.5 * iqr\n",
    "\n",
    "# Find outliers\n",
    "outliers = df[(df['tip_amount'] < lower_bound) | (df['tip_amount'] > upper_bound)]\n",
    "\n",
    "#  Median trip_distance. \n",
    "median = df['tip_amount'].median()\n",
    "outliers"
   ]
  },
  {
   "cell_type": "code",
   "execution_count": null,
   "metadata": {},
   "outputs": [],
   "source": [
    "df['tip_amount'] = df['tip_amount'].where((df['tip_amount'] >= lower_bound) & (df['tip_amount'] <= upper_bound), median)\n",
    "\n",
    "df.head()"
   ]
  },
  {
   "cell_type": "code",
   "execution_count": null,
   "metadata": {},
   "outputs": [],
   "source": [
    "df['tip_amount'].max()"
   ]
  },
  {
   "cell_type": "code",
   "execution_count": null,
   "metadata": {},
   "outputs": [],
   "source": [
    "bins_tip = [-np.inf, 0, 2, 4, 6, np.inf]\n",
    "labels_tip = ['0$', '1-2$', '3-4$', '5-6$', '>8$']\n",
    "df['tip_amount_bins'] = pd.cut(df['tip_amount'], bins=bins_tip, labels=labels_tip)"
   ]
  },
  {
   "cell_type": "code",
   "execution_count": null,
   "metadata": {},
   "outputs": [],
   "source": [
    "\n",
    "df['tip_amount_bins'].value_counts()"
   ]
  },
  {
   "cell_type": "markdown",
   "metadata": {},
   "source": [
    "<h3>payment_type</h3>"
   ]
  },
  {
   "cell_type": "code",
   "execution_count": null,
   "metadata": {},
   "outputs": [],
   "source": [
    "df['payment_type']=df['payment_type'].replace({1:'Credit card', 2:'Cash', 3:'No charge', 4:'Dispute', 5:'Unknown', 6:'Voided trip'})\n",
    "df['payment_type'].value_counts()"
   ]
  },
  {
   "cell_type": "markdown",
   "metadata": {},
   "source": [
    "<h3>trip_type<h3>"
   ]
  },
  {
   "cell_type": "code",
   "execution_count": null,
   "metadata": {},
   "outputs": [],
   "source": [
    "df['trip_type']=df['trip_type'].replace({1:'Street-hail', 2:'Dispatch'})\n",
    "df['trip_type'].value_counts()"
   ]
  },
  {
   "cell_type": "markdown",
   "metadata": {},
   "source": [
    "<h1>Setting Columns Index</h1>"
   ]
  },
  {
   "cell_type": "code",
   "execution_count": null,
   "metadata": {},
   "outputs": [],
   "source": [
    "df.head()"
   ]
  },
  {
   "cell_type": "code",
   "execution_count": null,
   "metadata": {},
   "outputs": [],
   "source": [
    "df.columns"
   ]
  },
  {
   "cell_type": "code",
   "execution_count": null,
   "metadata": {},
   "outputs": [],
   "source": [
    "df = df[['lpep_pickup_datetime', 'lpep_dropoff_datetime', 'day_category', 'pickup_time', 'RatecodeID', 'PULocationID', 'DOLocationID', 'passenger_count', 'trip_distance', 'distance_bins','total_amount', 'tip_amount', 'tip_amount_bins', 'payment_type', 'trip_type', 'trip_duration', 'duration_bins']]\n",
    "\n",
    "df"
   ]
  },
  {
   "cell_type": "code",
   "execution_count": null,
   "metadata": {},
   "outputs": [],
   "source": [
    "df.to_csv('cleaned_data.csv', index=False)"
   ]
  },
  {
   "cell_type": "markdown",
   "metadata": {},
   "source": [
    "<h1>Data Analys<h1>"
   ]
  },
  {
   "cell_type": "markdown",
   "metadata": {},
   "source": [
    "<h1>Skimming</h1>"
   ]
  },
  {
   "cell_type": "code",
   "execution_count": null,
   "metadata": {},
   "outputs": [],
   "source": [
    "pd.DataFrame({\n",
    "    'feature': df.columns.values,\n",
    "    'data_type': df.dtypes.values,\n",
    "    'null_value(%)': df.isna().mean().values * 100,\n",
    "    'neg_value(%)': [len(df[col][df[col] < 0]) / len(df) * 100 if col in df.select_dtypes(include=[np.number]).columns else 0 for col in df.columns],\n",
    "    '0_value(%)': [len(df[col][df[col] == 0]) / len(df) * 100 if col in df.select_dtypes(include=[np.number]).columns else 0 for col in df.columns],\n",
    "    'duplicate' : df.duplicated().sum(),\n",
    "    'n_unique': df.nunique().values,\n",
    "    'sample_unique': [df[col].unique() for col in df.columns]}\n",
    ").round(3)"
   ]
  },
  {
   "cell_type": "markdown",
   "metadata": {},
   "source": [
    "<h1>Exploratory Data Analysis</h1>"
   ]
  },
  {
   "cell_type": "markdown",
   "metadata": {},
   "source": [
    "<h3>Categorical</h3>"
   ]
  },
  {
   "cell_type": "code",
   "execution_count": null,
   "metadata": {},
   "outputs": [],
   "source": [
    "cols = ['day_category', 'pickup_time', 'RatecodeID', 'PULocationID', 'DOLocationID', 'passenger_count', \n",
    "        'distance_bins', 'tip_amount_bins', 'payment_type', 'trip_type', \n",
    "        'duration_bins']\n",
    "\n",
    "# Menentukan warna.\n",
    "color = \"steelblue\"\n",
    "\n",
    "# Membuat chart dengan altair.\n",
    "charts = []\n",
    "for col in cols:\n",
    "    chart = alt.Chart(df).mark_bar().encode(\n",
    "        x=alt.X(col, title=col),\n",
    "        y=alt.Y('count()', title='Count'),\n",
    "        color=alt.value(color)\n",
    "    ).properties(\n",
    "        width=700,\n",
    "        height=500,\n",
    "        title=col\n",
    "    )\n",
    "    \n",
    "    # Menambahkan text di atas setiap bar.\n",
    "    text = chart.mark_text(\n",
    "        align='center',\n",
    "        baseline='bottom',\n",
    "    ).encode(\n",
    "        text='count()'\n",
    "    )\n",
    "    \n",
    "    charts.append(chart + text)\n",
    "\n",
    "# Menggabungkan setiap chart menjadi grid.\n",
    "grid = alt.vconcat(*[alt.hconcat(*charts[i:i+3]) for i in range(0, len(charts), 3)])\n",
    "\n",
    "#  Menampilkan grid nya.\n",
    "grid"
   ]
  },
  {
   "cell_type": "markdown",
   "metadata": {},
   "source": [
    "<h5>Insight</h5>\n",
    "\n",
    "- Data tidak ada yang terdistribusi normal."
   ]
  },
  {
   "cell_type": "code",
   "execution_count": null,
   "metadata": {},
   "outputs": [],
   "source": [
    "trip_monthly = df.groupby(df['lpep_pickup_datetime'].dt.date).agg(trip_bydate=('lpep_pickup_datetime', 'count')).reset_index()\n",
    "trip_monthly['lpep_pickup_datetime'] = pd.to_datetime(trip_monthly['lpep_pickup_datetime'])\n",
    "trip_monthly['day_of_week'] = trip_monthly['lpep_pickup_datetime'].dt.day_name()\n",
    "\n",
    "trip_dayly = trip_monthly.groupby('day_of_week').agg(trip_byday=('trip_bydate', 'sum'), day_count=('day_of_week', 'count'), avg_trip=('trip_bydate', 'mean')).reset_index()\n",
    "trip_dayly['day_cat']= trip_dayly['day_of_week'].apply(lambda x: 'Weekend' if x in ['Saturday', 'Sunday'] else 'Weekdays')\n",
    "\n",
    "trip_dayly_cat = trip_dayly.groupby('day_cat').agg(trip_bycat=('trip_byday', 'sum')).reset_index()\n",
    "\n",
    "trip_merge = pd.merge(trip_monthly, trip_dayly, on='day_of_week', how='left')\n",
    "trip_merge = pd.merge(trip_merge, trip_dayly_cat, on='day_cat', how='left')"
   ]
  },
  {
   "cell_type": "code",
   "execution_count": null,
   "metadata": {},
   "outputs": [],
   "source": [
    "# Memilih warna garis.\n",
    "color = [\"#1f77b4\", \"#ff7f0e\"]\n",
    "\n",
    "# Membentuk ulang data untuk di plot\n",
    "trip_merge_melted = trip_merge.melt(id_vars='lpep_pickup_datetime', value_vars=['trip_bydate', 'avg_trip'])\n",
    "\n",
    "# Membuat Altair chart.\n",
    "line_chart = alt.Chart(trip_merge_melted).mark_line().encode(\n",
    "    x=alt.X('lpep_pickup_datetime:T', title='Date'),\n",
    "    y=alt.Y('value:Q', title='Number of trips'),\n",
    "    color=alt.Color('variable:N', title='Trip Type', scale=alt.Scale(range=color), legend=alt.Legend(title=None))\n",
    ").properties(\n",
    "    width=2000,\n",
    "    height=500,\n",
    "    title='Trip Distribution in January'\n",
    ")\n",
    "\n",
    "# Menampilkan chart.\n",
    "line_chart.interactive()"
   ]
  },
  {
   "cell_type": "markdown",
   "metadata": {},
   "source": [
    "<h5>Insight</h5>\n",
    "\n",
    "- Jumlah perjalanan taxi terendah berada di tanggal 1 Januari hari minggu.\n",
    "- Jumlah perjalanan taxi tertinggi berada di tanggal 25 Januari hari rabu.\n",
    "- Terdapat pola yang berulang."
   ]
  },
  {
   "cell_type": "code",
   "execution_count": null,
   "metadata": {},
   "outputs": [],
   "source": [
    "# Meengkonversi format data agar bisa di pakai altair.\n",
    "alt_data = pd.DataFrame({\n",
    "    'day_of_week': trip_merge['day_of_week'].unique().tolist(),\n",
    "    'avg_trip': trip_merge['avg_trip'].unique().tolist(),\n",
    "    'trip_byday': trip_merge['trip_byday'].unique().tolist()\n",
    "})\n",
    "\n",
    "# Membuat bar chart untuk AVG trips.\n",
    "bar_avg_trip = alt.Chart(alt_data).mark_bar().encode(\n",
    "    x=alt.X('day_of_week:N', title='Day of Week'),\n",
    "    y=alt.Y('avg_trip:Q', title='Average Trips'),\n",
    "    color=alt.Color('day_of_week:N', scale=alt.Scale(range=color), title='Day of Week'),\n",
    "    tooltip=['day_of_week:N', 'avg_trip:Q']\n",
    ").properties(\n",
    "    title='Average Trips',\n",
    "    width=920,\n",
    "    height=500\n",
    ")\n",
    "\n",
    "# Membuat text label.\n",
    "text_avg_trip = bar_avg_trip.mark_text(\n",
    "    align='center',\n",
    "    baseline='bottom',\n",
    "    dy=-5,\n",
    "    color='black',\n",
    "    fontSize=10\n",
    ").encode(\n",
    "    text=alt.Text('avg_trip:Q', format='.0f')\n",
    ")\n",
    "\n",
    "# Membuat bar chart untuk total trips.\n",
    "bar_total_trip = alt.Chart(alt_data).mark_bar().encode(\n",
    "    x=alt.X('day_of_week:N', title='Day of Week'),\n",
    "    y=alt.Y('trip_byday:Q', title='Proportion of Total Trips'),\n",
    "    color=alt.Color('day_of_week:N', scale=alt.Scale(range=color), title='Day of Week'),\n",
    "    tooltip=['day_of_week:N', 'trip_byday:Q']\n",
    ").properties(\n",
    "    title='Proportion of Total Trips',\n",
    "    width=920,\n",
    "    height=500\n",
    ")\n",
    "\n",
    "# Membuat text label.\n",
    "text_total_trip = bar_total_trip.mark_text(\n",
    "    align='center',\n",
    "    baseline='bottom',\n",
    "    dy=-5,\n",
    "    color='black',\n",
    "    fontSize=10\n",
    ").encode(\n",
    "    text=alt.Text('trip_byday:Q', format='.0f')\n",
    ")\n",
    "\n",
    "# Menggabungkan bar chart dengan text label.\n",
    "(bar_avg_trip + text_avg_trip) | (bar_total_trip + text_total_trip)"
   ]
  },
  {
   "cell_type": "markdown",
   "metadata": {},
   "source": [
    "<h5>Insight</h5>\n",
    "\n",
    "- Proporsi tertinggi total trip selama bulan januari yaitu hari Selasa sebesar 9535.\n",
    "- Meski demikian, berdasarkan rata-rata banyaknya perjalanan perhari, perjalanan perhari tertinggi terjadi pada hari kamis mencapai 2123 perjalanan perhari.\n",
    "- Ketika weekday jumllah perjalanan naik, ketika memasuki weekend jumlah perjalanan menurun."
   ]
  },
  {
   "cell_type": "code",
   "execution_count": null,
   "metadata": {},
   "outputs": [],
   "source": [
    "# Menentukan urutan dari hari.\n",
    "day_order = ['Sunday', 'Monday', 'Tuesday', 'Wednesday', 'Thursday', 'Friday', 'Saturday']\n",
    "\n",
    "# Buat tab silang untuk mendapatkan total perjalanan per hari dan jam.\n",
    "cross = pd.crosstab(index=df['lpep_pickup_datetime'].dt.day_name(), \n",
    "                    columns=df['lpep_pickup_datetime'].dt.hour, \n",
    "                    margins=True).reindex(day_order)\n",
    "\n",
    "# Reset index dam melt the DataFrame untuk plotting.\n",
    "melted_cross = cross.iloc[:,:-1].reset_index().melt(id_vars='lpep_pickup_datetime', \n",
    "                                                    var_name='hour', \n",
    "                                                    value_name='trips')\n",
    "\n",
    "# mengubah nama kolom\n",
    "melted_cross.columns = ['Day of Week', 'Hour of the Day', 'Trips']"
   ]
  },
  {
   "cell_type": "code",
   "execution_count": null,
   "metadata": {},
   "outputs": [],
   "source": [
    "# Line plot untuk total trips per hour.\n",
    "line_plot = alt.Chart(melted_cross).mark_line().encode(\n",
    "    x='Hour of the Day:O',\n",
    "    y='Trips:Q',\n",
    "    color='Day of Week:N',\n",
    "    tooltip=['Hour of the Day:O', 'Trips:Q']\n",
    ").properties(\n",
    "    width=2000,\n",
    "    height=500,\n",
    "    title='Total Trips per Hour'\n",
    ").interactive()\n",
    "\n",
    "# Heatmap untuk total trips by day and hour.\n",
    "heatmap = alt.Chart(melted_cross).mark_rect().encode(\n",
    "    x=alt.X('Hour of the Day:O', title='Hour of the Day'),\n",
    "    y=alt.Y('Day of Week:O', title='Day of the Week', sort=day_order),\n",
    "    color=alt.Color('Trips:Q', scale=alt.Scale(scheme='blueorange'), title='Total Trips'),\n",
    "    tooltip=['Hour of the Day:O', 'Day of Week:O', 'Trips:Q']\n",
    ").properties(\n",
    "    width=2000,\n",
    "    height=500,\n",
    "    title='Total Trips by Day and Hour'\n",
    ")\n",
    "\n",
    "# Menambah text mark untuk akngka trips di setiap kotak.\n",
    "text = heatmap.mark_text(baseline='middle').encode(\n",
    "    text='Trips:Q',\n",
    "    color=alt.condition(\n",
    "        alt.datum['Trips'] > cross.max().max() / 2,\n",
    "        alt.value('white'),\n",
    "        alt.value('black')\n",
    "    )\n",
    ")\n",
    "\n",
    "# Concatenate kedua charts secara vertikal.\n",
    "alt.vconcat(line_plot, (heatmap + text))"
   ]
  },
  {
   "cell_type": "markdown",
   "metadata": {},
   "source": [
    "<h5>Insight</h5>\n",
    "\n",
    "- Jumlah perjalanan terendah terjadi pada jam 04:00 pagi di hari Rabu dengan jumlah perjalanan sebanyak 18 kali.\n",
    "- Jumlah perjalanan tertinggi terjadi pada jam 18:00 sore di hari Kamis dengan jumlah perjalanan sebanyak 754 kali.\n",
    "- pada weekday atau hari senin sampai jumat dari siang sampai sore mengalami peningkatan perjalanan taxi.\n",
    "- Pada weekday atau hari senin sampai jumat jam-jam yang banyak atau ramai perjalanan taksi nya itu berada di jam 15:00 sampai jam 18:00."
   ]
  },
  {
   "cell_type": "code",
   "execution_count": null,
   "metadata": {},
   "outputs": [],
   "source": [
    "# Group by PULocationID dan mengagregat count dari trips.\n",
    "agg_zone = df.groupby('PULocationID').size().reset_index(name='count')\n",
    "\n",
    "# Sort agregat dari DataFrame dengan count dalam descending order.\n",
    "agg_zone_sorted = agg_zone.sort_values(by='count', ascending=False)\n",
    "\n",
    "# Pilih 10 teratas pickup zone.\n",
    "agg_zone_top = agg_zone_sorted.head(10)\n",
    "\n",
    "# Pilih 10 terbawah pickup zones.\n",
    "agg_zone_bottom = agg_zone_sorted.tail(10)\n",
    "\n",
    "# Membuat bar chart untuk 10 teratas pickup zone. \n",
    "bars_top = alt.Chart(agg_zone_top).mark_bar().encode(\n",
    "    y=alt.Y('PULocationID:N', title='Pick Up Zone'),\n",
    "    x=alt.X('count:Q', title='Total Trips'),\n",
    "    color=alt.Color('PULocationID:N', scale=alt.Scale(scheme='category20')),\n",
    "    tooltip=['PULocationID:N', 'count:Q']\n",
    ")\n",
    "\n",
    "# Menambahkan text label untuk 10 teratas pickup zone.\n",
    "text_top = bars_top.mark_text(\n",
    "    align='left',\n",
    "    baseline='middle',\n",
    "    dx=3  # Menggeser text ke kanan agar tidak overlap dengan bar.\n",
    ").encode(\n",
    "    text='count:Q'\n",
    ")\n",
    "\n",
    "# Gabungkan diagram batang dan label teks untuk 10 Zona Pengambilan teratas.\n",
    "chart_top = (bars_top + text_top).properties(\n",
    "    width=2000,\n",
    "    height=500,\n",
    "    title='Top 10 Trip Distribution based on Pick Up Zone'\n",
    ")\n",
    "\n",
    "# Buat diagram batang untuk 10 Zona Pengambilan.\n",
    "bars_bottom = alt.Chart(agg_zone_bottom).mark_bar().encode(\n",
    "    y=alt.Y('PULocationID:N', title='Pick Up Zone'),\n",
    "    x=alt.X('count:Q', title='Total Trips'),\n",
    "    color=alt.Color('PULocationID:N', scale=alt.Scale(scheme='category20')),\n",
    "    tooltip=['PULocationID:N', 'count:Q']\n",
    ")\n",
    "\n",
    "# Tambahkan label teks ke bilah untuk 10 Zona Pengambilan terbawah\n",
    "text_bottom = bars_bottom.mark_text(\n",
    "    align='left',\n",
    "    baseline='middle',\n",
    "    dx=3  # Menggeser text ke kanan agar tidak overlap dengan bar.\n",
    ").encode(\n",
    "    text='count:Q'\n",
    ")\n",
    "\n",
    "# Gabungkan diagram batang dan label teks untuk 10 Zona Pengambilan terbawah.\n",
    "chart_bottom = (bars_bottom + text_bottom).properties(\n",
    "    width=2000,\n",
    "    height=500,\n",
    "    title='Bottom 10 Trip Distribution based on Pick Up Zone'\n",
    ")\n",
    "\n",
    "# Concatenate ke dua chart secara vertikal.\n",
    "alt.vconcat(chart_top, chart_bottom)"
   ]
  },
  {
   "cell_type": "markdown",
   "metadata": {},
   "source": [
    "<h5>Insight</h5>\n",
    "\n",
    "- Pick up zone dengan trip terbanyak ada di pick up zone id 74 dengan jumlah trip sebanyak 10.626 kali.\n",
    "- Pick up zone dengan trip terendah ada di pick up zone id 23, 27, 31, 67, 114, 154, 161, 194, 221, dan 245 dengan jumlah trip sebanyak 1 kali."
   ]
  },
  {
   "cell_type": "code",
   "execution_count": null,
   "metadata": {},
   "outputs": [],
   "source": [
    "# Mengagregat data untuk RatecodeID.\n",
    "agg_ratecode = df.groupby('RatecodeID').size().reset_index(name='count')\n",
    "agg_ratecode['RatecodeID'] = agg_ratecode['RatecodeID'].apply(lambda x: x if x == 'Standard rate' else 'Other')\n",
    "agg_ratecode = agg_ratecode.groupby('RatecodeID').agg(count=('count', 'sum')).sort_values(by='count', ascending=False).reset_index()\n",
    "\n",
    "# Mengagregat data untuk payment type.\n",
    "agg_payment = df.groupby('payment_type').size().reset_index(name='count')\n",
    "agg_payment['payment_type'] = agg_payment['payment_type'].apply(lambda x: x if x in ['Credit card', 'Cash'] else 'Other')\n",
    "agg_payment = agg_payment.groupby('payment_type').agg(count=('count', 'sum')).sort_values(by='count', ascending=False).reset_index()\n",
    "\n",
    "# Mengagregat data untuk trip type.\n",
    "agg_triptype = df.groupby('trip_type').size().reset_index(name='count')\n",
    "\n",
    "# Buat diagram batang untuk proporsi RatecodeID.\n",
    "bar_ratecode = alt.Chart(agg_ratecode).mark_bar().encode(\n",
    "    x=alt.X('RatecodeID:N', title='RatecodeID'),\n",
    "    y=alt.Y('count:Q', title='Count'),\n",
    "    color=alt.Color('RatecodeID:N', scale=alt.Scale(range=color)),\n",
    "    tooltip=['RatecodeID:N', 'count:Q']\n",
    ").properties(\n",
    "    width=580,\n",
    "    height=500,\n",
    "    title='RatecodeID Proportion'\n",
    ")\n",
    "\n",
    "# Buat diagram batang untuk proporsi jenis pembayaran.\n",
    "bar_payment = alt.Chart(agg_payment).mark_bar().encode(\n",
    "    x=alt.X('payment_type:N', title='Payment Type'),\n",
    "    y=alt.Y('count:Q', title='Count'),\n",
    "    color=alt.Color('payment_type:N', scale=alt.Scale(range=color)),\n",
    "    tooltip=['payment_type:N', 'count:Q']\n",
    ").properties(\n",
    "    width=580,\n",
    "    height=500,\n",
    "    title='Payment Type Proportion'\n",
    ")\n",
    "\n",
    "# Buat diagram batang untuk proporsi jenis perjalanan.\n",
    "bar_triptype = alt.Chart(agg_triptype).mark_bar().encode(\n",
    "    x=alt.X('trip_type:N', title='Trip Type'),\n",
    "    y=alt.Y('count:Q', title='Count'),\n",
    "    color=alt.Color('trip_type:N', scale=alt.Scale(range=color)),\n",
    "    tooltip=['trip_type:N', 'count:Q']\n",
    ").properties(\n",
    "    width=580,\n",
    "    height=500,\n",
    "    title='Trip Type Proportion'\n",
    ")\n",
    "\n",
    "# Gabungkan diagram batang secara horizontal dan tambahkan hitungan di atas setiap batang.\n",
    "alt.hconcat(\n",
    "    bar_ratecode + bar_ratecode.mark_text(align='center', baseline='bottom', dy=-5).encode(text='count:Q'),\n",
    "    bar_payment + bar_payment.mark_text(align='center', baseline='bottom', dy=-5).encode(text='count:Q'),\n",
    "    bar_triptype + bar_triptype.mark_text(align='center', baseline='bottom', dy=-5).encode(text='count:Q')\n",
    ").resolve_scale(y='independent')"
   ]
  },
  {
   "cell_type": "markdown",
   "metadata": {},
   "source": [
    "<h5>Insight</h5>\n",
    "\n",
    "- Tarif yang sering digunakan penumpang adalah <i>standart rate</i> yang artinya banyak penumpang menggunakan taksi untuk berpergian di dalam kota saja.\n",
    "- Tipe pembayaran yang paling sering digunakan penumpang adalah credit card.\n",
    "- Banyak penumpang yang masih memanggil taksi di jalanan."
   ]
  },
  {
   "cell_type": "code",
   "execution_count": null,
   "metadata": {},
   "outputs": [],
   "source": [
    "agg_distance = df.groupby('distance_bins').agg(count=('distance_bins', 'count'), median=('trip_distance', 'median')).sort_values(by='count', ascending=False).reset_index()\n",
    "agg_duration = df.groupby('duration_bins').agg(count=('duration_bins', 'count'), median=('trip_duration', 'median')).sort_values(by='count', ascending=False).reset_index()"
   ]
  },
  {
   "cell_type": "code",
   "execution_count": null,
   "metadata": {},
   "outputs": [],
   "source": [
    "# Buat diagram batang untuk proporsi jarak.\n",
    "bar_distance = alt.Chart(agg_distance).mark_bar().encode(\n",
    "    x=alt.X('distance_bins:N', title='Distance Bins'),\n",
    "    y=alt.Y('count:Q', title='Count'),\n",
    "    color=alt.Color('distance_bins:N', scale=alt.Scale(range=['#1f77b4', '#ff7f0e', '#2ca02c', '#d62728'])),  # Adjust colors as needed\n",
    "    tooltip=['distance_bins:N', 'count:Q']\n",
    ").properties(\n",
    "    width=920,\n",
    "    height=500,\n",
    "    title='Distance Proportion'\n",
    ")\n",
    "\n",
    "# Tambahkan label teks ke batang untuk bagan jarak.\n",
    "text_distance = bar_distance.mark_text(\n",
    "    align='center',\n",
    "    baseline='middle',\n",
    "    dx=0,  # Sesuaikan posisi horizontal teks jika diperlukan.\n",
    "    dy=-5,  # Sesuaikan posisi vertikal teks jika diperlukan.\n",
    ").encode(\n",
    "    text='count:Q'\n",
    ")\n",
    "\n",
    "# Gabungkan diagram batang dan label teks untuk jarak.\n",
    "chart_distance = (bar_distance + text_distance).properties(title='Distance Proportion')\n",
    "\n",
    "# Buat diagram batang untuk proporsi durasi.\n",
    "bar_duration = alt.Chart(agg_duration).mark_bar().encode(\n",
    "    x=alt.X('duration_bins:N', title='Duration Bins'),\n",
    "    y=alt.Y('count:Q', title='Count'),\n",
    "    color=alt.Color('duration_bins:N', scale=alt.Scale(range=['#1f77b4', '#ff7f0e', '#2ca02c', '#d62728'])),  # Adjust colors as needed\n",
    "    tooltip=['duration_bins:N', 'count:Q']\n",
    ").properties(\n",
    "    width=920,\n",
    "    height=500,\n",
    "    title='Duration Proportion'\n",
    ")\n",
    "\n",
    "# Tambahkan label teks ke batang untuk diagram durasi.\n",
    "text_duration = bar_duration.mark_text(\n",
    "    align='center',\n",
    "    baseline='middle',\n",
    "    dx=0,  # Sesuaikan posisi horizontal teks jika diperlukan.\n",
    "    dy=-5,  # Sesuaikan posisi vertikal teks jika diperlukan.\n",
    ").encode(\n",
    "    text='count:Q'\n",
    ")\n",
    "\n",
    "# Gabungkan diagram batang dan label teks untuk durasi.\n",
    "chart_duration = (bar_duration + text_duration).properties(title='Duration Proportion')\n",
    "\n",
    "# Tampilkan diagram batang dengan label.\n",
    "(chart_distance | chart_duration)"
   ]
  },
  {
   "cell_type": "markdown",
   "metadata": {},
   "source": [
    "<h5>Insight</h5>\n",
    "\n",
    "- Kebanyakan penumpang menggunakan taksi untuk menempuh perjalanan sejauh < 2 miles.\n",
    "- Kebanyakan penumpang lama dalam perjalan taxi sekitar 11-20 menit."
   ]
  },
  {
   "cell_type": "markdown",
   "metadata": {},
   "source": [
    "<h5></5>"
   ]
  },
  {
   "cell_type": "code",
   "execution_count": null,
   "metadata": {},
   "outputs": [],
   "source": [
    "# Ekstrak hari dari waktu_penjemputan.\n",
    "df['pickup_day'] = df['lpep_pickup_datetime'].dt.day\n",
    "\n",
    "# Kelompokkan berdasarkan hari dan hitung jumlah total per hari.\n",
    "daily_total = df.groupby('pickup_day')['total_amount'].sum().reset_index()\n",
    "\n",
    "# Hitung jumlah total_jumlah untuk semua hari.\n",
    "total_amount_sum = daily_total['total_amount'].sum()\n",
    "\n",
    "# Bagan garis untuk jumlah total per hari.\n",
    "line_chart = alt.Chart(daily_total).mark_line().encode(\n",
    "    x='pickup_day:O',\n",
    "    y='total_amount:Q',\n",
    "    tooltip=['pickup_day:O', 'total_amount:Q', alt.Tooltip('total_amount_sum:Q', title='Total Amount Sum')]\n",
    ").transform_calculate(\n",
    "    total_amount_sum=str(total_amount_sum)  # Konversikan ke string untuk ditampilkan di tooltip.\n",
    ").properties(\n",
    "    width=2000,\n",
    "    height=500,\n",
    "    title='Total Amount per Day'\n",
    ")\n",
    "\n",
    "line_chart"
   ]
  },
  {
   "cell_type": "markdown",
   "metadata": {},
   "source": [
    "<h5>Insight</h5>\n",
    "\n",
    "- Tanggal dengan jumlah penghasilan terbanyak ada di tanggal 19 sebanyak $44.177.\n",
    "- Total Pendapatan bulan januari sebanyak $1.104.576."
   ]
  },
  {
   "cell_type": "markdown",
   "metadata": {},
   "source": [
    "<h1>Conclusion and Recommendation</h1>"
   ]
  },
  {
   "cell_type": "markdown",
   "metadata": {},
   "source": [
    "<h3>Conclusion</h3>"
   ]
  },
  {
   "cell_type": "markdown",
   "metadata": {},
   "source": [
    "<b>Permintaan dan preferensi pelanggan dan total pendapatan.</b>\n",
    "\n",
    "- Terdapat pola permintaan pada bulan Januari, Permintaan cenderung naik selama weekdays kemudian menurun ketika memasuki hari weekend.\n",
    "- Permintaan taksi terendah pada 1 Januari 2023 dan permintaan taksi paling tinggi di bulan januari terjadi pada hari Rabu, 25 Januari 2023.\n",
    "- Permintan taksi terendah terjadi pada jam 00:00 - 06:00, dan permintaan taksi tertinggi terjadi pada jam 15:00 - 18:00.\n",
    "- Id 74 adalah tempat dengan jumlah pengguna taksi tertinggi.\n",
    "- Pelanggan lebih cenderung menggunakan taksi di dalam kota saja dengan tarif standar, masih sering memanggil taksi di pinggir jalan dan kebanyakan pelanggan menggunakan tipe pembayaran credit card.\n",
    "- Durasi perjalanan yang paling umum adalah antara 11-20 menit dan jarak yang kurang dari 2 mil.\n",
    "- Total Pendapatan bulan januari sebanyak $1.104.576."
   ]
  },
  {
   "cell_type": "markdown",
   "metadata": {},
   "source": [
    "<h3>Recommendation</h3>"
   ]
  },
  {
   "cell_type": "markdown",
   "metadata": {},
   "source": [
    "<b>Penjadwalan armada taksi dan kerjasama dengan toko/penjual obat-obat an.</b>\n",
    "\n",
    "Pastikan tersedianya armada taksi yang cukup pada weekdays, terutama antara hari Senin hingga Jumat, dengan fokus lebih pada hari Rabu dan Kamis. kurangi operasi taksi pada hari weekend dan pada waktu tengah malam hingga dini hari. Tambahkan lebih banyak armada di sore hari pada pukul 15:00 hingga 18:00. Dengan asumsi bahwa jam 15:00 hingga 18:00 adalah jam dimana penumpang adalah orang yang pulang dari pekerjaannya, dimana penumpang sedang merasa capek-capeknya, merasa lemas, pusing dan tidak enak badan, perusahaan bisa menawarkan kerjasama dengan perusahaan, toko atau penjual obat-obatan untuk memasarkan produk-produk kesehatan seperti vitamin dengan memasangkan iklan di dalam taksi seperti di dasbor taksi atau mungkin memasangkan iklan di pintu taksi untuk meningkatkan profit perusahaan.\n"
   ]
  },
  {
   "cell_type": "markdown",
   "metadata": {},
   "source": [
    "<b>Opsi Pembayaran dan pemanggilan taksi.</b>\n",
    "\n",
    "menurut saya credit ini berarti cashless, jadi tidak perlu penggunaan kartu credit dari bank saja tapi bisa juga menggunakan e-money atau mungkin perusahaan bisa membuat apps nya sendiri dan membuat sistem e-money nya sendiri seperti go-pay atau bisa juga kredit seperti shopee pay later. beri keuntungan untuk pelanggan yang menggunakan apps dan e-money perusahaan seperti diskon pembayaran taksi atau mungkin bila merekomendasikan ke orang-orang yang dikenal nya maka bisa mendapatkan voucher untuk membeli produk obat-obatan dari perusahaan yang bekerjamasam dengan perusahaan kita agar tertarik menggunakan apps dan e-money perusahaan. di apps kita juga bisa di buat untuk melakukan pemanggilan taksi dan dengan keuntungan yang sebelumnya disebut diharapkan bisa merubah cara orang untuk mencari, memanggil dan menggunakan taksi. "
   ]
  }
 ],
 "metadata": {
  "kernelspec": {
   "display_name": "base",
   "language": "python",
   "name": "python3"
  },
  "language_info": {
   "codemirror_mode": {
    "name": "ipython",
    "version": 3
   },
   "file_extension": ".py",
   "mimetype": "text/x-python",
   "name": "python",
   "nbconvert_exporter": "python",
   "pygments_lexer": "ipython3",
   "version": "3.11.5"
  }
 },
 "nbformat": 4,
 "nbformat_minor": 2
}
